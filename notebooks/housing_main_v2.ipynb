{
 "cells": [
  {
   "cell_type": "markdown",
   "metadata": {},
   "source": [
    "# 0. Importing packages"
   ]
  },
  {
   "cell_type": "code",
   "execution_count": null,
   "metadata": {},
   "outputs": [],
   "source": [
    "# importing packages to be used in the notebook\n",
    "import numpy as np\n",
    "import matplotlib.pyplot as plt\n",
    "import numba\n",
    "\n",
    "plt.rcParams.update({\"axes.grid\":True,\"grid.color\":\"black\",\"grid.alpha\":\"0.25\",\"grid.linestyle\":\"-\"})\n",
    "plt.rcParams.update({'font.size': 10})\n",
    "\n",
    "from sequence_jacobian import simple, solved, combine, create_model  # functions\n",
    "from sequence_jacobian import grids, hetblocks                       # modules\n",
    "from sequence_jacobian import interpolate\n",
    "from scipy.interpolate import interp1d\n",
    "\n",
    "# importing own modules\n",
    "import hh_housing_v3 # contains the single EGM step \n",
    "import utils # contains different useful functions for the model\n",
    "\n",
    "# autoreload modules when code is run\n",
    "%load_ext autoreload\n",
    "%autoreload 2"
   ]
  },
  {
   "cell_type": "markdown",
   "metadata": {},
   "source": [
    "# 1. Solving for steady state"
   ]
  },
  {
   "cell_type": "markdown",
   "metadata": {},
   "source": [
    "The model to be solved can be written as:\n",
    "$$\n",
    "\\textbf{F}_t(\\textbf{X}, Z) \\equiv \n",
    "\\begin{pmatrix}\n",
    "Y_t - Z_t N_t\n",
    "\\\\\n",
    "Y_t \\left[1 - \\frac{\\mu}{\\mu-1}\\frac{1}{2\\kappa} \\log(1 + \\pi_t)^2\\right] - w_t N_t - d_t\n",
    "\\\\\n",
    "r_t B - \\tau_t\n",
    "\\\\\n",
    "r^*_t + \\phi \\pi_t - i_t\n",
    "\\\\\n",
    "1 + r_t - \\frac{1+i_{t-1}}{1+\\pi_t}\n",
    "\\\\\n",
    "\\kappa \\left(\\frac{w_t}{Z_t} - \\frac{1}{\\mu} \\right)  + \\frac{1}{1+r_{t+1}} \\frac{Y_{t+1}}{Y_t} \\log(1+\\pi_{t+1}) - \\log(1+\\pi_t)\n",
    "\\\\\n",
    "\\mathcal{B}_t(\\{r_s, w_s, \\tau_s, d_s, q^h_s\\})  - \\bar{B}\n",
    "\\\\\n",
    "\\mathcal{H}_t(\\{r_s, w_s, \\tau_s, d_s, q^h_s\\})  - \\bar{H}\n",
    "\\\\\n",
    "\\varphi N_t^{\\nu} \\frac{1}{\\theta}\\left(C_{t}^\\theta H_t^{1-\\theta}\\right)^\\sigma\\left(\\frac{C_{t}}{H_t}\\right)^{1-\\theta} - w_t\n",
    "\\end{pmatrix}\n",
    "= \\begin{pmatrix} 0 \\\\ 0 \\\\ 0 \\\\ 0 \\\\ 0 \\\\ 0 \\\\ 0 \\\\ 0 \\\\ 0\\end{pmatrix},\n",
    "\\quad t = 0, 1, \\dots\n",
    "$$"
   ]
  },
  {
   "cell_type": "markdown",
   "metadata": {},
   "source": [
    "## 1.1. Household/HA block"
   ]
  },
  {
   "cell_type": "markdown",
   "metadata": {},
   "source": [
    "Let's first construct our household/HA block to be used for both the steady state DAG and the transition DAG "
   ]
  },
  {
   "cell_type": "code",
   "execution_count": null,
   "metadata": {},
   "outputs": [],
   "source": [
    "# load the HA block\n",
    "hh = hh_housing_v3.hh_housecons\n",
    "\n",
    "# add hetinputs to the model\n",
    "hh1 = hh.add_hetinputs([utils.make_grids, utils.income])\n",
    "\n",
    "print(f'Inputs: {hh1.inputs}')\n",
    "print(f'Macro outputs: {hh1.outputs}')\n",
    "print(f'Micro outputs: {hh1.internals}')"
   ]
  },
  {
   "cell_type": "markdown",
   "metadata": {},
   "source": [
    "## 1.2. Other blocks for steady state"
   ]
  },
  {
   "cell_type": "markdown",
   "metadata": {},
   "source": [
    "Now the other blocks for the model can be defined"
   ]
  },
  {
   "cell_type": "code",
   "execution_count": 26,
   "metadata": {},
   "outputs": [],
   "source": [
    "@simple\n",
    "def firm(Y, w, Z, pi, mu, kappa):\n",
    "    N = Y / Z\n",
    "    Div = Y - w * N - mu/(mu-1)/(2*kappa) * (1+pi).apply(np.log)**2 * Y\n",
    "    return N, Div\n",
    "\n",
    "@simple\n",
    "def monetary(pi, rstar, phi):\n",
    "    r = (1 + rstar(-1) + phi * pi(-1)) / (1 + pi) - 1\n",
    "    return r\n",
    "\n",
    "@simple\n",
    "def fiscal(r, BBAR):\n",
    "    Tax = r * BBAR\n",
    "    return Tax\n",
    "\n",
    "@simple\n",
    "def wage_res(C_BHAT, H_BHAT, N, varphi, nu, theta, sigma, w):\n",
    "    wage_res = varphi * N ** nu * 1 / theta * (C_BHAT**theta*H_BHAT**(1-theta))**sigma * (C_BHAT/H_BHAT)**(1-theta) - w\n",
    "    return wage_res\n",
    "\n",
    "@simple\n",
    "def mkt_clearing(B_BHAT, C_BHAT, Y, BBAR, pi, mu, kappa, HBAR, H_BHAT, CHI, qh_lag):\n",
    "    asset_mkt = B_BHAT - BBAR - qh_lag*HBAR\n",
    "    goods_mkt = Y - C_BHAT - mu/(mu-1)/(2*kappa) * (1+pi).apply(np.log)**2 * Y - CHI\n",
    "    house_mkt = HBAR - H_BHAT\n",
    "    return asset_mkt, goods_mkt, house_mkt\n",
    "\n",
    "@simple \n",
    "def qhouse_lag(qh):\n",
    "    qh_lag = qh(-1)\n",
    "    return qh_lag\n",
    "\n",
    "@simple\n",
    "def nkpc_ss(Z, mu):\n",
    "    w = Z / mu\n",
    "    return w"
   ]
  },
  {
   "cell_type": "markdown",
   "metadata": {},
   "source": [
    "## 1.3. Creating the model and solving for steady state"
   ]
  },
  {
   "cell_type": "code",
   "execution_count": null,
   "metadata": {},
   "outputs": [],
   "source": [
    "blocks_ss = [hh1, firm, monetary, fiscal, wage_res, mkt_clearing, nkpc_ss, qhouse_lag]\n",
    "\n",
    "hank_ss = create_model(blocks_ss, name=\"One-Asset HANK SS\")\n",
    "\n",
    "print(hank_ss)\n",
    "print(f\"Inputs: {hank_ss.inputs}\")\n",
    "print(f\"Outputs: {hank_ss.outputs}\")"
   ]
  },
  {
   "cell_type": "code",
   "execution_count": null,
   "metadata": {},
   "outputs": [],
   "source": [
    "calibration = {'gamma': 0.8, 'theta': 0.7, 'sigma': 2.0, 'alpha': 1.0, 'bmax': 50,\n",
    "               'hmax': 10, 'kmax': 1, 'nB': 50, 'nH': 70, 'nK': 50, 'nZ': 3,\n",
    "               'rho_z': 0.966, 'sigma_z': 0.92, 'Y': 1.0, 'Z': 1.0, 'pi': 0.0, 'mu': 1.2,\n",
    "                'kappa': 0.1, 'rstar': 0.005, 'phi': 1.5, 'nu': 1.0, 'BBAR': 2.0, 'HBAR': 1.0}\n",
    "\n",
    "# Calibrated parameters: beta (for goods market clearing), qh (for house market clearing), phi (for the wage schedule), w (for the Philips curve)\n",
    "unknowns_ss = {'beta': 0.986, 'varphi': 0.8, 'qh': 5.5}\n",
    "targets_ss = {'goods_mkt': 0, 'wage_res': 0, 'house_mkt': 0}\n",
    "\n",
    "ss0 = hank_ss.solve_steady_state(calibration, unknowns_ss, targets_ss, solver=\"hybr\")"
   ]
  }
 ],
 "metadata": {
  "kernelspec": {
   "display_name": "base",
   "language": "python",
   "name": "python3"
  },
  "language_info": {
   "codemirror_mode": {
    "name": "ipython",
    "version": 3
   },
   "file_extension": ".py",
   "mimetype": "text/x-python",
   "name": "python",
   "nbconvert_exporter": "python",
   "pygments_lexer": "ipython3",
   "version": "3.9.19"
  }
 },
 "nbformat": 4,
 "nbformat_minor": 2
}

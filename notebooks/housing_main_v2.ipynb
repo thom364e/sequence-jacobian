{
 "cells": [
  {
   "cell_type": "markdown",
   "metadata": {},
   "source": [
    "# 0. Importing packages"
   ]
  },
  {
   "cell_type": "code",
   "execution_count": 17,
   "metadata": {},
   "outputs": [
    {
     "name": "stdout",
     "output_type": "stream",
     "text": [
      "The autoreload extension is already loaded. To reload it, use:\n",
      "  %reload_ext autoreload\n"
     ]
    }
   ],
   "source": [
    "# importing packages to be used in the notebook\n",
    "import numpy as np\n",
    "import matplotlib.pyplot as plt\n",
    "import numba\n",
    "import warnings\n",
    "warnings.simplefilter('always', RuntimeWarning)\n",
    "\n",
    "plt.rcParams.update({\"axes.grid\":True,\"grid.color\":\"black\",\"grid.alpha\":\"0.25\",\"grid.linestyle\":\"-\"})\n",
    "plt.rcParams.update({'font.size': 10})\n",
    "plt.rcParams['axes.prop_cycle'] = plt.cycler(color=['#000000','#006BA2','#DB444B','#EBB434',\n",
    "                                                    '#3EBCD2','#379A8B','#9A607F', '#B4BA39', '#754C24']) \n",
    "\n",
    "from sequence_jacobian import simple, solved, combine, create_model  # functions\n",
    "from sequence_jacobian import grids, hetblocks                       # modules\n",
    "from sequence_jacobian import interpolate\n",
    "from sequence_jacobian import drawdag\n",
    "from scipy.interpolate import interp1d\n",
    "from types import SimpleNamespace\n",
    "\n",
    "# importing own modules\n",
    "import hh_housing_v3 # contains the single EGM step \n",
    "import utils # contains different useful functions for the model\n",
    "\n",
    "# autoreload modules when code is run\n",
    "%load_ext autoreload\n",
    "%autoreload 2"
   ]
  },
  {
   "cell_type": "markdown",
   "metadata": {},
   "source": [
    "# 1. Solving for steady state"
   ]
  },
  {
   "cell_type": "markdown",
   "metadata": {},
   "source": [
    "The model to be solved can be written as:\n",
    "$$\n",
    "\\textbf{F}_t(\\textbf{X}, Z) \\equiv \n",
    "\\begin{pmatrix}\n",
    "Y_t - Z_t N_t\n",
    "\\\\\n",
    "Y_t \\left[1 - \\frac{\\mu}{\\mu-1}\\frac{1}{2\\kappa} \\log(1 + \\pi_t)^2\\right] - w_t N_t - d_t\n",
    "\\\\\n",
    "r_t B - \\tau_t\n",
    "\\\\\n",
    "r^*_t + \\phi \\pi_t - i_t\n",
    "\\\\\n",
    "1 + r_t - \\frac{1+i_{t-1}}{1+\\pi_t}\n",
    "\\\\\n",
    "\\kappa \\left(\\frac{w_t}{Z_t} - \\frac{1}{\\mu} \\right)  + \\frac{1}{1+r_{t+1}} \\frac{Y_{t+1}}{Y_t} \\log(1+\\pi_{t+1}) - \\log(1+\\pi_t)\n",
    "\\\\\n",
    "\\mathcal{B}_t(\\{r_s, w_s, \\tau_s, d_s, q^h_s\\})  - \\bar{B}\n",
    "\\\\\n",
    "\\mathcal{H}_t(\\{r_s, w_s, \\tau_s, d_s, q^h_s\\})  - \\bar{H}\n",
    "\\\\\n",
    "\\varphi N_t^{\\nu} \\frac{1}{\\theta}\\left(C_{t}^\\theta H_t^{1-\\theta}\\right)^\\sigma\\left(\\frac{C_{t}}{H_t}\\right)^{1-\\theta} - w_t\n",
    "\\end{pmatrix}\n",
    "= \\begin{pmatrix} 0 \\\\ 0 \\\\ 0 \\\\ 0 \\\\ 0 \\\\ 0 \\\\ 0 \\\\ 0 \\\\ 0\\end{pmatrix},\n",
    "\\quad t = 0, 1, \\dots\n",
    "$$"
   ]
  },
  {
   "cell_type": "markdown",
   "metadata": {},
   "source": [
    "## 1.1. Household/HA block"
   ]
  },
  {
   "cell_type": "markdown",
   "metadata": {},
   "source": [
    "Let's first construct our household/HA block to be used for both the steady state DAG and the transition DAG "
   ]
  },
  {
   "cell_type": "code",
   "execution_count": 18,
   "metadata": {},
   "outputs": [
    {
     "name": "stdout",
     "output_type": "stream",
     "text": [
      "Inputs: ['beta', 'gamma', 'theta', 'sigma', 'qh', 'qh_lag', 'r', 'alpha', 'gamma_p', 'bmin', 'bmax', 'hmax', 'kmax', 'nB', 'nH', 'nK', 'nZ', 'rho_z', 'sigma_z', 'w', 'N', 'Div', 'Tax']\n",
      "Macro outputs: ['H_BHAT', 'B_BHAT', 'C_BHAT', 'UCE_BHAT', 'CHI']\n",
      "Micro outputs: ['D', 'Dbeg', 'Pi', 'Vh_bhat', 'Vb_bhat', 'h_bhat', 'b_bhat', 'c_bhat', 'uce_bhat', 'chi', 'Psi1', 'b_bhat_grid', 'h_bhat_grid', 'k_grid', 'e_grid', 'pi_e', 'z_grid']\n"
     ]
    }
   ],
   "source": [
    "# load the HA block\n",
    "hh = hh_housing_v3.hh_housecons\n",
    "\n",
    "# add hetinputs to the model\n",
    "hh1 = hh.add_hetinputs([utils.make_grids, utils.income])\n",
    "\n",
    "print(f'Inputs: {hh1.inputs}')\n",
    "print(f'Macro outputs: {hh1.outputs}')\n",
    "print(f'Micro outputs: {hh1.internals}')"
   ]
  },
  {
   "cell_type": "markdown",
   "metadata": {},
   "source": [
    "## 1.3. Creating the model and solving for steady state"
   ]
  },
  {
   "cell_type": "code",
   "execution_count": 19,
   "metadata": {},
   "outputs": [
    {
     "name": "stdout",
     "output_type": "stream",
     "text": [
      "<Model 'One-Asset HANK SS'>\n",
      "Inputs: ['beta', 'gamma', 'theta', 'sigma', 'qh', 'alpha', 'bmin', 'bmax', 'hmax', 'kmax', 'nB', 'nH', 'nK', 'nZ', 'rho_z', 'sigma_z', 'N', 'Z', 'pi', 'mu', 'kappa', 'rstar', 'phi', 'BBAR', 'G', 'varphi', 'nu', 'HBAR']\n",
      "Outputs: ['H_BHAT', 'B_BHAT', 'C_BHAT', 'UCE_BHAT', 'CHI', 'Y', 'Div', 'r', 'Tax', 'wage_res', 'asset_mkt', 'goods_mkt', 'house_mkt', 'w', 'qh_lag', 'gamma_p']\n"
     ]
    }
   ],
   "source": [
    "blocks_ss = [hh1, utils.firm, utils.monetary, utils.fiscal, utils.wage_res, \n",
    "             utils.mkt_clearing, utils.nkpc_ss, utils.qhouse_lag, utils.gamma_prime]\n",
    "\n",
    "hank_ss = create_model(blocks_ss, name=\"One-Asset HANK SS\")\n",
    "\n",
    "print(hank_ss)\n",
    "print(f\"Inputs: {hank_ss.inputs}\")\n",
    "print(f\"Outputs: {hank_ss.outputs}\")"
   ]
  },
  {
   "cell_type": "code",
   "execution_count": 24,
   "metadata": {},
   "outputs": [],
   "source": [
    "calibration = {'gamma': 0.5, 'theta': 0.89, 'sigma': 1.0, 'alpha': 2.0, 'bmin': 0.0, 'bmax': 50,\n",
    "               'hmax': 5.0, 'kmax': 1, 'nB': 60, 'nH': 70, 'nK': 50, 'nZ': 3,\n",
    "               'rho_z': 0.966, 'sigma_z': 0.92, 'N': 1.0, 'Z': 1.0, 'pi': 0.0, 'mu': 1.2,\n",
    "                'kappa': 0.1, 'rstar': 0.005, 'phi': 1.5, 'nu': 1.0, 'BBAR': 1.04, 'G': 0.0, 'HBAR': 1.0}\n",
    "\n",
    "calibration['theta'] = 0.96\n",
    "# calibration['gamma'] = 0.5\n",
    "\n",
    "# Calibrated parameters: beta (for goods market clearing), qh (for house market clearing), phi (for the wage schedule), w (for the Philips curve)\n",
    "# unknowns_ss = {'beta': 0.986, 'varphi': 0.8, 'qh': 5.0}\n",
    "# unknowns_ss = {'beta': 0.937266818342156, 'varphi': 0.8025483962473203, 'qh': 5.99193013178212}\n",
    "\n",
    "unknowns_ss = {'beta': 0.9820312121081143, 'varphi': 0.8009274579844263, 'qh': 7.22403881392267}\n",
    "targets_ss = {'goods_mkt': 0, 'wage_res': 0, 'house_mkt': 0}\n",
    "\n",
    "ss0 = hank_ss.solve_steady_state(calibration, unknowns_ss, targets_ss, solver=\"hybr\")\n",
    "ss =  hank_ss.steady_state(ss0)"
   ]
  },
  {
   "cell_type": "code",
   "execution_count": null,
   "metadata": {},
   "outputs": [],
   "source": [
    "print(ss['beta'], ss['varphi'], ss['qh'], ss['G'], ss['gamma_p'])\n",
    "MPC, mean_mpc = utils.calc_mpc(ss, 'hh_housecons')\n",
    "print(f\"Mean MPC: {mean_mpc}\")"
   ]
  },
  {
   "cell_type": "code",
   "execution_count": null,
   "metadata": {},
   "outputs": [],
   "source": [
    "# solve for steady state in a low leverage economy with gamma = 0.4\n",
    "calibration_lowlev = calibration.copy()\n",
    "calibration_lowlev['BBAR'] = 0.0\n",
    "\n",
    "unknowns_ss = {'beta': 0.9820312121081143, 'varphi': 0.8009274579844263, 'qh': 7.22403881392267}\n",
    "ss_ll = hank_ss.solve_steady_state(calibration_lowlev, unknowns_ss, targets_ss, solver=\"hybr\")\n",
    "MPC, mean_mpc = utils.calc_mpc(ss_ll, 'hh_housecons')\n",
    "print(f\"Mean MPC: {mean_mpc}\")"
   ]
  },
  {
   "cell_type": "markdown",
   "metadata": {},
   "source": [
    "### 1.3.1. Printing and comparing steady state results"
   ]
  },
  {
   "cell_type": "code",
   "execution_count": null,
   "metadata": {},
   "outputs": [],
   "source": [
    "from tabulate import tabulate\n",
    "\n",
    "table_data = [\n",
    "    [\"Variable\", \"High leverage (gamma = 0.8)\", \"Low leverage (gamma = 0.2)\"],\n",
    "    [\"Asset market clearing (untargeted)\", f\"{ss['asset_mkt']: 0.2e}\", f\"{ss_ll['asset_mkt']: 0.2e}\"],\n",
    "    [\"Goods market clearing\", f\"{ss['goods_mkt']: 0.2e}\", f\"{ss_ll['goods_mkt']: 0.2e}\"],\n",
    "    [\"Housing market clearing\", f\"{ss['house_mkt']: 0.2e}\", f\"{ss_ll['house_mkt']: 0.2e}\"],\n",
    "    [\"Wage schedule residual\", f\"{ss['wage_res']: 0.2e}\", f\"{ss_ll['wage_res']: 0.2e}\"],\n",
    "    [\"beta\", ss['beta'], ss_ll['beta']],\n",
    "    [\"qh\", ss['qh'], ss_ll['qh']],\n",
    "    [\"wage\", ss['w'], ss_ll['w']],\n",
    "    [\"varphi\", ss['varphi'], ss_ll['varphi']],\n",
    "    [\"Housing wealth, qh*H/(4*Y)\", ss['H_BHAT']*ss['qh']/(4*ss['Y']), ss_ll['H_BHAT']*ss_ll['qh']/(4*ss_ll['Y'])],\n",
    "    [\"B_BHAT - qh*H_BHAT*gamma\", ss['B_BHAT'] - ss['qh']*ss['H_BHAT']*ss['gamma'], ss_ll['B_BHAT'] - ss_ll['qh']*ss_ll['H_BHAT']*ss_ll['gamma']],\n",
    "    [\"Leverage, bhat/(4*Y)\", ss['B_BHAT']/(4*ss['Y']), ss_ll['B_BHAT']/(4*ss_ll['Y'])],\n",
    "    [\"Chi\", ss['CHI'], ss_ll['CHI']],\n",
    "    [\"Consumption\", ss['C_BHAT'], ss_ll['C_BHAT']],\n",
    "]\n",
    "\n",
    "print(tabulate(table_data, headers=\"firstrow\", tablefmt=\"grid\"))"
   ]
  },
  {
   "cell_type": "markdown",
   "metadata": {},
   "source": [
    "## 1.3.2. Plotting the steady state policy functions"
   ]
  },
  {
   "cell_type": "code",
   "execution_count": null,
   "metadata": {},
   "outputs": [],
   "source": [
    "fig = plt.figure(figsize=(18, 4))\n",
    "ax = fig.add_subplot(1,3,1)\n",
    "ax2 = fig.add_subplot(1,3,2)\n",
    "ax3 = fig.add_subplot(1,3,3)\n",
    "\n",
    "z_point = 0\n",
    "for i_h in range(0, calibration['nH'], 10):\n",
    "    ax.plot(ss.internals['hh_housecons']['b_bhat_grid'], ss.internals['hh_housecons']['c_bhat'][z_point,:, i_h], label=f'h = {ss.internals[\"hh_housecons\"][\"h_bhat_grid\"][i_h]:.2f}')\n",
    "    ax2.plot(ss.internals['hh_housecons']['b_bhat_grid'], ss.internals['hh_housecons']['h_bhat'][z_point,:, i_h])\n",
    "    ax3.plot(ss.internals['hh_housecons']['b_bhat_grid'], ss.internals['hh_housecons']['b_bhat'][z_point,:, i_h])\n",
    "\n",
    "ax.legend()\n",
    "ax.set_title('Consumption')\n",
    "ax2.set_title('Housing')\n",
    "ax3.set_title('Bond holdings')\n",
    "fig.suptitle('Steady state policy functions', fontsize=14)\n",
    "ax3.set_xlim([-0.01, 0.5])\n",
    "ax3.set_ylim([0, 0.2])\n",
    "\n",
    "plt.show()"
   ]
  },
  {
   "cell_type": "markdown",
   "metadata": {},
   "source": [
    "Get the policy function for bond holdings"
   ]
  },
  {
   "cell_type": "code",
   "execution_count": null,
   "metadata": {},
   "outputs": [],
   "source": [
    "# low_inc_dist = ss.internals['hh_housecons']['D'][0,:,:]\n",
    "# b_dist = low_inc_dist - \n",
    "z_point = 0\n",
    "b_point = 5\n",
    "h_point = 5\n",
    "\n",
    "b_endo = ss.internals['hh_housecons']['b_bhat_grid'][None,:] - ss['gamma'] * ss['qh'] * ss.internals['hh_housecons']['h_bhat_grid'][:,None]\n",
    "b_polfunc = ss.internals['hh_housecons']['b_bhat'] - ss['gamma'] * ss['qh'] * ss.internals['hh_housecons']['h_bhat']\n",
    "leverage_polfunc = -b_polfunc / (ss['qh'] * ss.internals['hh_housecons']['h_bhat'])\n",
    "\n",
    "fig = plt.figure(figsize=(12, 4))\n",
    "ax = fig.add_subplot(1,2,1)\n",
    "ax2 = fig.add_subplot(1,2,2)\n",
    "\n",
    "for iH in range(0, calibration['nH'], 2):\n",
    "    ax.plot(b_endo[iH,:], b_polfunc[z_point,:, iH], label=f'h = {ss.internals[\"hh_housecons\"][\"h_bhat_grid\"][iH]:.2f}')\n",
    "\n",
    "# ax.plot(b_endo[h_point,:], b_polfunc[z_point,:, h_point])\n",
    "ax.set_xlim(-2, 0.5)\n",
    "ax.set_ylim(-10, 0.5)\n",
    "\n",
    "# plot 2: leverage ratio\n",
    "for iB in range(0, calibration['nB']-50):\n",
    "    ax2.plot(ss.internals['hh_housecons']['b_bhat_grid'], leverage_polfunc[z_point,:, iB])\n",
    "\n",
    "ax2.set_ylim(-1.0, ss['gamma'])\n",
    "ax2.set_title('Optimal leverage ratio')\n",
    "ax2.set_xlabel('Bond holdings')\n",
    "ax2.set_ylabel(r'$b / q^h h$')\n",
    "plt.show()"
   ]
  },
  {
   "cell_type": "markdown",
   "metadata": {},
   "source": [
    "## 1.4. Plotting the steady state distributions"
   ]
  },
  {
   "cell_type": "markdown",
   "metadata": {},
   "source": [
    "### 1.4.1. Housing and bond holdings"
   ]
  },
  {
   "cell_type": "code",
   "execution_count": null,
   "metadata": {},
   "outputs": [],
   "source": [
    "from mpl_toolkits.mplot3d import Axes3D\n",
    "bdmargdist = np.sum(ss.internals['hh_housecons']['D'],axis=0)\n",
    "X, Y = np.meshgrid(ss.internals['hh_housecons']['h_bhat_grid'],ss.internals['hh_housecons']['b_bhat_grid'])\n",
    "b_margdist = np.sum(bdmargdist,axis=1) # sum out housing\n",
    "bmargcum = np.cumsum(b_margdist)\n",
    "\n",
    "# print(bdmargdist.shape)\n",
    "# Create a 3D plot\n",
    "fig = plt.figure()\n",
    "ax = fig.add_subplot(111, projection='3d')\n",
    "\n",
    "# Plot the surface\n",
    "ax.plot_surface(X, Y, bdmargdist, cmap='viridis')\n",
    "# ax.set_xlim(0, 3)\n",
    "# ax.set_ylim(0, 20)"
   ]
  },
  {
   "cell_type": "code",
   "execution_count": null,
   "metadata": {},
   "outputs": [],
   "source": [
    "# getting the marginal distribution of bond holdings for low leverage economy\n",
    "bdmargdist_ll = np.sum(ss_ll.internals['hh_housecons']['D'],axis=0)\n",
    "b_margdist_ll = np.sum(bdmargdist_ll,axis=1) # sum out housing\n",
    "bmargcum_ll = np.cumsum(b_margdist_ll)\n",
    "\n",
    "mpc, mean_mpc = utils.calc_mpc(ss, 'hh_housecons')\n",
    "mpc_ll, mean_mpc_ll = utils.calc_mpc(ss_ll, 'hh_housecons')\n",
    "\n",
    "fig = plt.figure(figsize=(12, 4))\n",
    "ax = fig.add_subplot(1,2,1)\n",
    "ax2 = fig.add_subplot(1,2,2)\n",
    "\n",
    "# plot 1: marginal distribution of bond holdings across leverage ratios\n",
    "ax.plot(ss.internals['hh_housecons']['b_bhat_grid'], bmargcum, label = 'High leverage')\n",
    "ax.plot(ss_ll.internals['hh_housecons']['b_bhat_grid'], bmargcum_ll, label = 'Low leverage')\n",
    "ax.set_title('Cumulative distribution of bond holdings')\n",
    "ax.legend()\n",
    "\n",
    "# plot 2: MPCs across leverage ratios\n",
    "h_idx = 20\n",
    "ax2.plot(ss.internals['hh_housecons']['b_bhat_grid'][:-1],mpc[1,:-1,h_idx])\n",
    "ax2.plot(ss.internals['hh_housecons']['b_bhat_grid'][:-1],mpc_ll[1,:-1,h_idx])\n",
    "ax2.text(0.5, 0.95, f'High leverage avg. MPC {mean_mpc:.2f}', horizontalalignment='left', verticalalignment='top', transform=ax2.transAxes)\n",
    "ax2.text(0.5, 0.9, f'Low leverage avg. MPC {mean_mpc_ll:.2f}', horizontalalignment='left', verticalalignment='top', transform=ax2.transAxes)\n",
    "ax2.set_title('Marginal propensity to consume')\n",
    "ax2.set_xlabel('Bond holdings')\n",
    "ax2.set_ylabel('MPC')\n",
    "\n",
    "plt.show()\n"
   ]
  },
  {
   "cell_type": "code",
   "execution_count": null,
   "metadata": {},
   "outputs": [],
   "source": [
    "z_point = 1\n",
    "h_point = 66\n",
    "\n",
    "fig = plt.figure(figsize=(12, 4))\n",
    "ax = fig.add_subplot(1,2,1)\n",
    "ax2 = fig.add_subplot(1,2,2)\n",
    "\n",
    "for i_h in range(0, calibration['nB'], 1):\n",
    "    if i_h%2 == 0:\n",
    "        # ax.plot(ss.internals['hh_housecons']['h_bhat_grid'], ss.internals['hh_housecons']['D'][z_point, i_h, :])\n",
    "        pass\n",
    "    else:\n",
    "        ax.plot(ss.internals['hh_housecons']['h_bhat_grid'], ss.internals['hh_housecons']['D'][z_point, i_h, :], ls = '--')\n",
    "\n",
    "for i_h in range(0, calibration['nH'], 1):\n",
    "    if i_h%2 == 0:\n",
    "        ax2.plot(ss.internals['hh_housecons']['b_bhat_grid'], ss.internals['hh_housecons']['D'][z_point, :, i_h])\n",
    "    else:\n",
    "        ax2.plot(ss.internals['hh_housecons']['b_bhat_grid'], ss.internals['hh_housecons']['D'][z_point, :, i_h], ls = '--')\n",
    "\n",
    "ax.set_title('Housing wealth')\n",
    "ax2.set_title('Bond holdings')\n",
    "\n",
    "plt.show()"
   ]
  },
  {
   "cell_type": "markdown",
   "metadata": {},
   "source": [
    "### 1.4.2. MPCs"
   ]
  },
  {
   "cell_type": "code",
   "execution_count": null,
   "metadata": {},
   "outputs": [],
   "source": [
    "# # MPC\n",
    "# MPC = np.zeros(ss.internals['hh_housecons']['D'].shape)\n",
    "# dc = (ss.internals['hh_housecons']['c_bhat'][:,1:,:]-ss.internals['hh_housecons']['c_bhat'][:,:-1,:])\n",
    "# dm = (1+ss['r'])*ss.internals['hh_housecons']['b_bhat_grid'][np.newaxis,1:,np.newaxis]-(1+ss['r'])*ss.internals['hh_housecons']['b_bhat_grid'][np.newaxis,:-1,np.newaxis]\n",
    "# MPC[:,:-1,:] = dc/dm\n",
    "# MPC[:,-1,:] = MPC[:,-1,:] # assuming constant MPC at end\n",
    "# mean_MPC = np.sum(MPC*ss.internals['hh_housecons']['D'])\n",
    "\n",
    "MPC, mean_mpc = utils.calc_mpc(ss, 'hh_housecons')\n",
    "\n",
    "h_point = 1\n",
    "print(f'mean MPC: {mean_mpc:.3f}')\n",
    "fig, ax = plt.subplots()\n",
    "ax.plot(ss.internals['hh_housecons']['b_bhat_grid'][:-1],MPC[1,:-1,h_point])\n",
    "plt.show()"
   ]
  },
  {
   "cell_type": "markdown",
   "metadata": {},
   "source": [
    "## 1.5. Solving model with seperability between housing and consumption"
   ]
  },
  {
   "cell_type": "code",
   "execution_count": null,
   "metadata": {},
   "outputs": [],
   "source": [
    "# load the HA block and add inputs\n",
    "hh = hh_housing_v3.hh_housecons_sep\n",
    "hh1 = hh.add_hetinputs([utils.make_grids, utils.income])\n",
    "\n",
    "blocks_ss = [hh1, firm, monetary, fiscal, wage_res, mkt_clearing, nkpc_ss, qhouse_lag]\n",
    "hank_ss_sep = create_model(blocks_ss, name=\"One-Asset HANK SS\")\n",
    "\n",
    "calibration2 = {'gamma': 0.8, 'theta': 0.03, 'sigma': 1.0, 'alpha': 1.0, 'bmax': 45,\n",
    "               'hmax': 5.0, 'kmax': 2.0, 'nB': 50, 'nH': 70, 'nK': 50, 'nZ': 3,\n",
    "               'rho_z': 0.966, 'sigma_z': 0.92, 'N': 1.0, 'Z': 1.0, 'pi': 0.0, 'mu': 1.2,\n",
    "                'kappa': 0.1, 'rstar': 0.005, 'phi': 1.5, 'nu': 2.0, 'BBAR': 0.15, 'HBAR': 1.0}\n",
    "\n",
    "unknowns_ss = {'beta': 0.986, 'varphi': 0.08345079332201338, 'qh': 8.845303164603399}\n",
    "targets_ss = {'goods_mkt': 0, 'wage_res': 0, 'house_mkt': 0}\n",
    "\n",
    "ss0_sep = hank_ss_sep.solve_steady_state(calibration2, unknowns_ss, targets_ss, solver=\"hybr\")\n",
    "ss_sep =  hank_ss_sep.steady_state(ss0_sep)\n",
    "\n",
    "print(f\"beta: {ss_sep['beta']}\")\n",
    "print(f\"varphi: {ss_sep['varphi']}\")\n",
    "print(f\"SS qh: {ss_sep['qh']}\")\n",
    "print(f\"qh*H/(4*Y): {ss_sep['H_BHAT']*ss_sep['qh']/(4*ss_sep['Y'])}\")\n",
    "print(f\"Leverage: {ss_sep['B_BHAT']/(ss_sep['Y'])}\")"
   ]
  },
  {
   "cell_type": "code",
   "execution_count": null,
   "metadata": {},
   "outputs": [],
   "source": [
    "# calculate the endogenous grid for the bond holdings\n",
    "b_endo = ss_sep.internals['hh_housecons_sep']['b_bhat_grid'][None,:] - ss_sep['gamma'] * ss_sep['qh'] * ss_sep.internals['hh_housecons_sep']['h_bhat_grid'][:,None]\n",
    "\n",
    "# calculate the policy function for the bond holdings and leverage ratio\n",
    "b_polfunc = ss_sep.internals['hh_housecons_sep']['b_bhat'] - ss_sep['gamma'] * ss_sep['qh'] * ss_sep.internals['hh_housecons_sep']['h_bhat']\n",
    "leverage_polfunc = -b_polfunc / (ss_sep['qh'] * ss_sep.internals['hh_housecons_sep']['h_bhat'])"
   ]
  },
  {
   "cell_type": "markdown",
   "metadata": {},
   "source": [
    "### 1.6.1. Getting the distribution and MPC"
   ]
  },
  {
   "cell_type": "code",
   "execution_count": null,
   "metadata": {},
   "outputs": [],
   "source": [
    "# average MPC\n",
    "mpc, mean_mpc = utils.calc_mpc(ss_sep, 'hh_housecons_sep')\n",
    "print(f'mean MPC: {mean_mpc:.3f}')"
   ]
  },
  {
   "cell_type": "markdown",
   "metadata": {},
   "source": [
    "### 1.6.2. Plotting a dashboard "
   ]
  },
  {
   "cell_type": "code",
   "execution_count": null,
   "metadata": {},
   "outputs": [],
   "source": [
    "z_point = 0\n",
    "\n",
    "# creating a plotting dashboard\n",
    "fig = plt.figure(figsize=(18, 10))\n",
    "ax = fig.add_subplot(2,3,1)\n",
    "ax2 = fig.add_subplot(2,3,2)\n",
    "ax3 = fig.add_subplot(2,3,3)\n",
    "ax4 = fig.add_subplot(2,3,4)\n",
    "ax5 = fig.add_subplot(2,3,5)\n",
    "ax6 = fig.add_subplot(2,3,6)\n",
    "\n",
    "for i_h in range(0, calibration2['nH'], 10):\n",
    "    ax.plot(ss_sep.internals['hh_housecons_sep']['b_bhat_grid'], \n",
    "            ss_sep.internals['hh_housecons_sep']['c_bhat'][z_point,:, i_h], label=f'h = {ss_sep.internals[\"hh_housecons_sep\"][\"h_bhat_grid\"][i_h]:.2f}')\n",
    "    ax2.plot(ss_sep.internals['hh_housecons_sep']['b_bhat_grid'], \n",
    "             ss_sep.internals['hh_housecons_sep']['h_bhat'][z_point,:, i_h])\n",
    "    ax3.plot(ss_sep.internals['hh_housecons_sep']['b_bhat_grid'], \n",
    "             ss_sep.internals['hh_housecons_sep']['b_bhat'][z_point,:, i_h])\n",
    "    \n",
    "for i_b in range(0, calibration2['nB'], 6):\n",
    "    ax4.plot(ss_sep.internals['hh_housecons_sep']['h_bhat_grid'], \n",
    "             ss_sep.internals['hh_housecons_sep']['c_bhat'][z_point, i_b, :], \n",
    "             label=f'b = {ss_sep.internals[\"hh_housecons_sep\"][\"b_bhat_grid\"][i_b]:.2f}')\n",
    "    \n",
    "for iB in range(0, calibration2['nB'], 4):\n",
    "    ax5.plot(ss_sep.internals['hh_housecons_sep']['h_bhat_grid'], leverage_polfunc[z_point, iB, :], \n",
    "             label=fr'$\\hat b$ = {ss_sep.internals[\"hh_housecons_sep\"][\"b_bhat_grid\"][iB]:.1f}')\n",
    "\n",
    "for iH in range(0, calibration2['nH'], 2):\n",
    "    ax6.plot(b_endo[iH,:], leverage_polfunc[z_point, :, iH])\n",
    "\n",
    "ax.set_title('Consumption')\n",
    "ax.set_xlabel(r'$\\hat b$')\n",
    "ax.legend(fontsize=8, ncol=3)\n",
    "\n",
    "ax2.set_title('Housing')\n",
    "ax2.set_xlabel(r'$\\hat b$')\n",
    "\n",
    "ax3.set_xlabel(r'$\\hat b$')\n",
    "ax3.set_title('Next-period bond holdings')\n",
    "\n",
    "ax4.set_xlabel('Housing')\n",
    "ax4.set_title('Consumption as a function of housing')\n",
    "\n",
    "ax5.set_ylim(0.0, ss_sep['gamma']*1.1)\n",
    "ax5.set_xlim(-0.01, 2.0)\n",
    "ax5.set_title('Optimal leverage ratio')\n",
    "ax5.set_xlabel('Housing')\n",
    "ax5.set_ylabel(r'Leverage $(b / q^h h)$')\n",
    "# ax5.axhline(ss_sep['gamma'], linestyle='--', color='blue', linewidth=2.5, alpha=0.5)\n",
    "ax5.legend(ncols = 3, fontsize=8)\n",
    "\n",
    "ax6.set_ylim(0.0, ss_sep['gamma']*1.1)\n",
    "ax6.set_xlim(None, 2.0)\n",
    "ax6.set_title('Optimal leverage ratio')\n",
    "ax6.set_ylabel(r'Leverage $(b / q^h h)$')\n",
    "ax6.set_xlabel('Bond holdings')\n",
    "\n",
    "plt.show()"
   ]
  },
  {
   "cell_type": "code",
   "execution_count": null,
   "metadata": {},
   "outputs": [],
   "source": [
    "z_point = 1\n",
    "h_point = 66\n",
    "\n",
    "fig = plt.figure(figsize=(12, 4))\n",
    "ax = fig.add_subplot(1,2,1)\n",
    "# ax2 = fig.add_subplot(1,2,2)\n",
    "\n",
    "for i_b in range(0, calibration2['nB']-20, 2):\n",
    "    if i_b%2 == 0:\n",
    "        ax.plot(ss_sep.internals['hh_housecons_sep']['h_bhat_grid'], ss_sep.internals['hh_housecons_sep']['D'][z_point, i_b, :], label=f'b = {ss_sep.internals[\"hh_housecons_sep\"][\"b_bhat_grid\"][i_b]:.2f}')\n",
    "    else:\n",
    "        ax.plot(ss_sep.internals['hh_housecons_sep']['h_bhat_grid'], ss_sep.internals['hh_housecons_sep']['D'][z_point, i_b, :], ls = '--', label=f'b = {ss_sep.internals[\"hh_housecons_sep\"][\"b_bhat_grid\"][i_b]:.2f}')\n",
    "\n",
    "ax.set_title('Housing wealth')\n",
    "ax.set_xlabel('Housing')\n",
    "ax.legend(fontsize = 8, ncols = 3)\n",
    "ax.set_xlim(0.0, 1.0)\n",
    "\n",
    "ax2.set_title('Bond holdings')\n",
    "plt.show()"
   ]
  },
  {
   "cell_type": "markdown",
   "metadata": {},
   "source": [
    "# 2. Transitional dynamics"
   ]
  },
  {
   "cell_type": "code",
   "execution_count": 25,
   "metadata": {},
   "outputs": [],
   "source": [
    "# General settings for the model\n",
    "T = 300\n",
    "unknowns = ['pi', 'w', 'N', 'qh']\n",
    "targets = ['nkpc_res', 'asset_mkt', 'wage_res', 'house_mkt']\n",
    "exogenous = ['rstar', 'Z']"
   ]
  },
  {
   "cell_type": "markdown",
   "metadata": {},
   "source": [
    "## 2.1. Building the DAG for transitional dynamics"
   ]
  },
  {
   "cell_type": "markdown",
   "metadata": {},
   "source": [
    "Have to do a sligth modification of the DAG for transitional dyanmics, because the `nkpc_ss` block is not valid for anything but steady state"
   ]
  },
  {
   "cell_type": "code",
   "execution_count": 26,
   "metadata": {},
   "outputs": [],
   "source": [
    "blocks = [hh1, utils.firm, utils.monetary, utils.fiscal, utils.wage_res, \n",
    "          utils.mkt_clearing, utils.nkpc, utils.qhouse_lag, utils.gamma_prime]\n",
    "hank = create_model(blocks, name=\"Housing HANK\")\n",
    "\n",
    "# Checking that the steady state DAG created above is valid\n",
    "ss = hank.steady_state(ss0)\n",
    "\n",
    "for k in ss0.keys():\n",
    "    assert np.all(np.isclose(ss[k], ss0[k]))"
   ]
  },
  {
   "cell_type": "code",
   "execution_count": null,
   "metadata": {},
   "outputs": [],
   "source": [
    "# general equilibrium jacobians\n",
    "G = hank.solve_jacobian(ss, unknowns, targets, exogenous, T=T)\n",
    "\n",
    "print(G)"
   ]
  },
  {
   "cell_type": "markdown",
   "metadata": {},
   "source": [
    "### 2.1.1. Plotting the DAG for the model"
   ]
  },
  {
   "cell_type": "code",
   "execution_count": null,
   "metadata": {},
   "outputs": [],
   "source": [
    "drawdag(hank, exogenous, unknowns, targets)"
   ]
  },
  {
   "cell_type": "markdown",
   "metadata": {},
   "source": [
    "## 2.2. Computing impulse-response functions"
   ]
  },
  {
   "cell_type": "markdown",
   "metadata": {},
   "source": [
    "### 2.2.1. Computing the non-linear impulse-response functions"
   ]
  },
  {
   "cell_type": "code",
   "execution_count": null,
   "metadata": {},
   "outputs": [],
   "source": [
    "irfs = SimpleNamespace()\n",
    "# construct the shock path for rstar\n",
    "rho_r, sig_r = 0.65, 0.01\n",
    "rho_gamma, sig_gamma = 0.9, 0.15\n",
    "\n",
    "ss_highleverage = hank.steady_state(ss0)\n",
    "ss_lowleverage = hank.steady_state(ss_ll)\n",
    "\n",
    "rstar_path = {\"rstar\": sig_r * rho_r ** (np.arange(T))}\n",
    "gamma_path = {\"gamma\": sig_gamma * rho_gamma ** (np.arange(T))}\n",
    "\n",
    "control = {\"gamma\": sig_gamma * rho_gamma ** (np.arange(T))}\n",
    "shock = {\"rstar\": sig_r * rho_r ** (np.arange(T)), \"gamma\": sig_gamma * rho_gamma ** (np.arange(T))}\n",
    "shock_nogam = {\"rstar\": sig_r * rho_r ** (np.arange(T))}\n",
    "\n",
    "# compute nonlinear impulse responses\n",
    "shock_control = False\n",
    "if shock_control:\n",
    "    irfs.control = hank.solve_impulse_nonlinear(ss_highleverage, unknowns, targets, control)\n",
    "    irfs.shock = hank.solve_impulse_nonlinear(ss_highleverage, unknowns, targets, shock)\n",
    "\n",
    "    irfs.shock_nogam = hank.solve_impulse_nonlinear(ss_highleverage, unknowns, targets, shock_nogam)\n",
    "\n",
    "# # compute nonlinear impulse responses\n",
    "hl_ll = True\n",
    "if hl_ll:\n",
    "    irfs.highleverage = hank.solve_impulse_nonlinear(ss_highleverage, unknowns, targets, rstar_path)\n",
    "    irfs.lowleverage = hank.solve_impulse_nonlinear(ss_lowleverage, unknowns, targets, rstar_path)"
   ]
  },
  {
   "cell_type": "code",
   "execution_count": null,
   "metadata": {},
   "outputs": [],
   "source": [
    "irfs_shock_control = irfs.shock['C_BHAT'] - irfs.control['C_BHAT']\n",
    "ifrs_shock_nogam = irfs.shock_nogam['C_BHAT']\n",
    "\n",
    "plt.plot(100*irfs_shock_control[:21], label='High leverage')\n",
    "plt.plot(100*ifrs_shock_nogam[:21], label = 'Low leverage')\n",
    "plt.title('Consumption response to a monetary policy shock')\n",
    "plt.legend()\n",
    "plt.show()"
   ]
  },
  {
   "cell_type": "code",
   "execution_count": null,
   "metadata": {},
   "outputs": [],
   "source": [
    "utils.show_irfs([irfs.highleverage, irfs.lowleverage], ['Y', 'qh', 'C_BHAT', \n",
    "                                                        'pi', 'r', 'w'], labels=[\"High leverage\", \"Low leverage\"], T_plot = T, figsize=(18,8))"
   ]
  },
  {
   "cell_type": "markdown",
   "metadata": {},
   "source": [
    "## 2.3. Decomposing a monetary policy shock"
   ]
  },
  {
   "cell_type": "markdown",
   "metadata": {},
   "source": [
    "Decomposing the effects of a monetary policy shock on consumption"
   ]
  },
  {
   "cell_type": "code",
   "execution_count": null,
   "metadata": {},
   "outputs": [],
   "source": [
    "input_list = ['qh', 'r', 'qh_lag', 'Tax', 'Div', 'N', 'w']\n",
    "\n",
    "ss_highleverage = hank.steady_state(ss0)\n",
    "ss_lowleverage = hank.steady_state(ss_ll)\n",
    "\n",
    "# empty namespace to store decompositions\n",
    "decomp = SimpleNamespace()\n",
    "decomp.lowleverage = SimpleNamespace()\n",
    "decomp.highleverage = SimpleNamespace()\n",
    "\n",
    "# empty namespace to store irfs\n",
    "irf = SimpleNamespace()\n",
    "irf.lowleverage = SimpleNamespace()\n",
    "irf.highleverage = SimpleNamespace()\n",
    "\n",
    "Js_ll = {'hh1': hh1.jacobian(ss_lowleverage, inputs = input_list, \n",
    "                          outputs=['C_BHAT', 'H_BHAT', 'B_BHAT', 'CHI'], T=T)}\n",
    "\n",
    "Js_hl = {'hh1': hh1.jacobian(ss_highleverage, inputs = input_list, \n",
    "                          outputs=['C_BHAT', 'H_BHAT', 'B_BHAT', 'CHI'], T=T)}\n",
    "\n",
    "rho_r, sig_r = 0.8, 0.01\n",
    "dr = sig_r * rho_r ** (np.arange(T))\n",
    "rstar_shock = {\"rstar\": dr}\n",
    "\n",
    "irf.lowleverage = hank.solve_impulse_linear(ss_lowleverage, unknowns, targets, rstar_shock)\n",
    "irf.highleverage = hank.solve_impulse_linear(ss_highleverage, unknowns, targets, rstar_shock)\n",
    "\n",
    "for k in input_list:\n",
    "    setattr(decomp.lowleverage, f'dC_d{k}', Js_ll['hh1']['C_BHAT'][k] @ irf.lowleverage[k])\n",
    "    setattr(decomp.highleverage, f'dC_d{k}', Js_hl['hh1']['C_BHAT'][k] @ irf.highleverage[k])"
   ]
  },
  {
   "cell_type": "code",
   "execution_count": null,
   "metadata": {},
   "outputs": [],
   "source": [
    "decomp_dict_ll = vars(decomp.lowleverage)\n",
    "decomp_dict_hl = vars(decomp.highleverage)\n",
    "\n",
    "total_response_ll = 0\n",
    "total_response_hl = 0\n",
    "\n",
    "for (key, value) in decomp_dict_ll.items():\n",
    "    total_response_ll += value\n",
    "\n",
    "for (key, value) in decomp_dict_hl.items():\n",
    "    total_response_hl += value\n",
    "    \n",
    "ncols = 3\n",
    "nrows = 2\n",
    "fig, ax = plt.subplots(nrows, ncols, figsize=(16,8), sharex=True)\n",
    "ax = ax.flatten()\n",
    "\n",
    "for (key, value) in decomp_dict_ll.items():\n",
    "    ax[0].plot(100*value[:21], label = key)\n",
    "\n",
    "ax[0].plot(100*irf.lowleverage['C_BHAT'][:21], label = 'C_BHAT', linestyle='--', linewidth=2.5, marker='o')\n",
    "ax[0].plot(100*total_response_ll[:21], label = 'Total response', linestyle='dashdot', linewidth=2.5, alpha = 0.5)\n",
    "ax[0].legend(ncols = 2, fontsize = 8)\n",
    "ax[0].set_title('Consumption (low leverage)')\n",
    "ax[0].set_ylabel('% deviation from ss')\n",
    "ax[0].set_ylim(-1.0, 1.0)\n",
    "\n",
    "for (key, value) in decomp_dict_hl.items():\n",
    "    ax[1].plot(100*value[:21], label = key)\n",
    "\n",
    "ax[1].plot(100*irf.highleverage['C_BHAT'][:21], label = 'C_BHAT', linestyle='--', linewidth=2.5, marker='o')\n",
    "ax[1].plot(100*total_response_hl[:21], label = 'Total response', linestyle='dashdot', linewidth=2.5, alpha = 0.5)\n",
    "ax[1].legend(ncols = 2, fontsize = 8)\n",
    "ax[1].set_title('Consumption (high leverage)')\n",
    "ax[1].set_ylabel('% deviation from ss')\n",
    "ax[1].set_ylim(-1.0, 1.0)\n",
    "\n",
    "# ax[1].plot(100*irf['qh'][:21], linewidth=2.5)\n",
    "# ax[1].set_title('House price')\n",
    "\n",
    "ax[2].plot(100*(decomp.lowleverage.dC_dqh[:21] + decomp.lowleverage.dC_dqh_lag[:21]), linewidth=2.5, label = 'Low leverage')\n",
    "ax[2].plot(100*(decomp.highleverage.dC_dqh[:21] + decomp.highleverage.dC_dqh_lag[:21]), linewidth=2.5, label = 'High leverage')\n",
    "ax[2].set_title('qh + qh_lag')\n",
    "ax[2].legend()\n",
    "\n",
    "ax[3].plot(100*irf.lowleverage['qh'][:21], linewidth=2.5, label = 'Low leverage')\n",
    "ax[3].plot(100*irf.highleverage['qh'][:21], linewidth=2.5, label = 'High leverage')\n",
    "ax[3].set_title('House price')\n",
    "\n",
    "ax[4].plot(100*(total_response_ll[:21] - (decomp.lowleverage.dC_dqh[:21] + decomp.lowleverage.dC_dqh_lag[:21])), linewidth=2.5, label = 'Low leverage')\n",
    "ax[4].plot(100*(total_response_hl[:21] - (decomp.highleverage.dC_dqh[:21] + decomp.highleverage.dC_dqh_lag[:21])), linewidth=2.5, label = 'High leverage')\n",
    "ax[4].set_title('Other responses')\n",
    "ax[4].legend()\n",
    "\n",
    "\n",
    "plt.show()"
   ]
  },
  {
   "cell_type": "markdown",
   "metadata": {},
   "source": [
    "## 2.4. Government spending shock"
   ]
  },
  {
   "cell_type": "code",
   "execution_count": null,
   "metadata": {},
   "outputs": [],
   "source": [
    "irfs = SimpleNamespace()\n",
    "# construct the shock path for rstar\n",
    "rho_G = 0.8\n",
    "rho_B = 0.9\n",
    "dG = 0.01 * rho_G ** np.arange(T)\n",
    "dB = np.cumsum(dG) * rho_B ** np.arange(T)\n",
    "shocks = {'G': dG, 'B': dB}\n",
    "\n",
    "irfs.Gshock = hank.solve_impulse_nonlinear(ss, unknowns, targets, shocks)\n",
    "\n",
    "utils.show_irfs([irfs.Gshock], ['Y', 'qh', 'C_BHAT', \n",
    "                                'pi', 'r', 'G', 'asset_mkt'], labels=[\"High leverage\", \"Low leverage\"], T_plot = T, figsize=(18,8))"
   ]
  },
  {
   "cell_type": "markdown",
   "metadata": {},
   "source": [
    "## 2.5. Permanent credit shocks"
   ]
  },
  {
   "cell_type": "code",
   "execution_count": null,
   "metadata": {},
   "outputs": [],
   "source": [
    "from sequence_jacobian.classes import FactoredJacobianDict\n",
    "calibration_new = calibration.copy()\n",
    "calibration_new['gamma'] = 0.6\n",
    "\n",
    "ss0 = hank_ss.solve_steady_state(calibration, unknowns_ss, targets_ss, solver=\"hybr\")\n",
    "ss_new =  hank_ss.steady_state(ss0)\n",
    "\n",
    "H_U = hank.jacobian(ss_new, unknowns, targets, T=T)\n",
    "H_U_factored = FactoredJacobianDict(H_U, T)"
   ]
  },
  {
   "cell_type": "code",
   "execution_count": null,
   "metadata": {},
   "outputs": [],
   "source": [
    "sigma_gamma = -0.2\n",
    "rho_gamma = 1.0\n",
    "\n",
    "irfs = SimpleNamespace()\n",
    "gamma_shock = {\"gamma\": sigma_gamma * rho_gamma ** (np.arange(T))}\n",
    "gamma_shock_pos = {\"gamma\": -sigma_gamma * rho_gamma ** (np.arange(T))}\n",
    "\n",
    "irfs.gamma_neg = hank.solve_impulse_nonlinear(ss_new, unknowns, targets, gamma_shock, H_U_factored=H_U_factored)\n",
    "irfs.gamma_pos = hank.solve_impulse_nonlinear(ss_new, unknowns, targets, gamma_shock_pos, H_U_factored=H_U_factored)\n",
    "\n",
    "utils.show_irfs([irfs.gamma_neg, irfs.gamma_pos], ['Y', 'qh', 'C_BHAT', 'pi',\n",
    "                               'r', 'w', 'asset_mkt', 'goods_mkt', 'house_mkt', \n",
    "                               'CHI'], labels=[\"neg\", \"pos\"], T_plot = 50, figsize=(18,12.5))"
   ]
  },
  {
   "cell_type": "code",
   "execution_count": 27,
   "metadata": {},
   "outputs": [
    {
     "name": "stdout",
     "output_type": "stream",
     "text": [
      "Solving Housing HANK for ['pi', 'w', 'N', 'qh'] to hit ['nkpc_res', 'asset_mkt', 'wage_res', 'house_mkt']\n",
      "On iteration 0\n",
      "   max error for nkpc_res is 0.00E+00\n",
      "   max error for asset_mkt is 3.47E-01\n",
      "   max error for wage_res is 2.57E-02\n",
      "   max error for house_mkt is 4.99E-02\n",
      "On iteration 1\n",
      "   max error for nkpc_res is 1.09E-05\n",
      "   max error for asset_mkt is 3.51E-02\n",
      "   max error for wage_res is 1.46E-03\n",
      "   max error for house_mkt is 6.00E-03\n",
      "On iteration 2\n",
      "   max error for nkpc_res is 5.59E-06\n",
      "   max error for asset_mkt is 3.19E-03\n",
      "   max error for wage_res is 1.65E-04\n",
      "   max error for house_mkt is 4.61E-04\n",
      "On iteration 3\n",
      "   max error for nkpc_res is 3.06E-07\n",
      "   max error for asset_mkt is 3.57E-04\n",
      "   max error for wage_res is 1.08E-05\n",
      "   max error for house_mkt is 5.49E-05\n",
      "On iteration 4\n",
      "   max error for nkpc_res is 5.41E-08\n",
      "   max error for asset_mkt is 3.08E-05\n",
      "   max error for wage_res is 1.04E-06\n",
      "   max error for house_mkt is 4.52E-06\n",
      "On iteration 5\n",
      "   max error for nkpc_res is 3.40E-09\n",
      "   max error for asset_mkt is 3.56E-06\n",
      "   max error for wage_res is 1.09E-07\n",
      "   max error for house_mkt is 5.32E-07\n",
      "On iteration 6\n",
      "   max error for nkpc_res is 4.73E-10\n",
      "   max error for asset_mkt is 3.02E-07\n",
      "   max error for wage_res is 8.63E-09\n",
      "   max error for house_mkt is 4.39E-08\n",
      "On iteration 7\n",
      "   max error for nkpc_res is 3.62E-11\n",
      "   max error for asset_mkt is 3.52E-08\n",
      "   max error for wage_res is 1.11E-09\n",
      "   max error for house_mkt is 5.18E-09\n",
      "On iteration 8\n",
      "   max error for nkpc_res is 4.26E-12\n",
      "   max error for asset_mkt is 2.97E-09\n",
      "   max error for wage_res is 1.01E-10\n",
      "   max error for house_mkt is 4.30E-10\n",
      "Solving Housing HANK for ['pi', 'w', 'N', 'qh'] to hit ['nkpc_res', 'asset_mkt', 'wage_res', 'house_mkt']\n",
      "On iteration 0\n",
      "   max error for nkpc_res is 0.00E+00\n",
      "   max error for asset_mkt is 1.87E-01\n",
      "   max error for wage_res is 7.47E-03\n",
      "   max error for house_mkt is 2.35E-02\n",
      "On iteration 1\n",
      "   max error for nkpc_res is 6.38E-06\n",
      "   max error for asset_mkt is 2.14E-02\n",
      "   max error for wage_res is 1.26E-03\n",
      "   max error for house_mkt is 2.89E-03\n",
      "On iteration 2\n",
      "   max error for nkpc_res is 2.42E-06\n",
      "   max error for asset_mkt is 3.29E-03\n",
      "   max error for wage_res is 3.08E-04\n",
      "   max error for house_mkt is 4.46E-04\n",
      "On iteration 3\n",
      "   max error for nkpc_res is 6.51E-07\n",
      "   max error for asset_mkt is 6.69E-04\n",
      "   max error for wage_res is 7.14E-05\n",
      "   max error for house_mkt is 9.24E-05\n",
      "On iteration 4\n",
      "   max error for nkpc_res is 2.21E-07\n",
      "   max error for asset_mkt is 1.64E-04\n",
      "   max error for wage_res is 1.71E-05\n",
      "   max error for house_mkt is 2.26E-05\n",
      "On iteration 5\n",
      "   max error for nkpc_res is 6.78E-08\n",
      "   max error for asset_mkt is 4.04E-05\n",
      "   max error for wage_res is 4.13E-06\n",
      "   max error for house_mkt is 5.55E-06\n",
      "On iteration 6\n",
      "   max error for nkpc_res is 1.99E-08\n",
      "   max error for asset_mkt is 9.93E-06\n",
      "   max error for wage_res is 1.03E-06\n",
      "   max error for house_mkt is 1.36E-06\n",
      "On iteration 7\n",
      "   max error for nkpc_res is 5.66E-09\n",
      "   max error for asset_mkt is 2.43E-06\n",
      "   max error for wage_res is 3.12E-07\n",
      "   max error for house_mkt is 3.33E-07\n",
      "On iteration 8\n",
      "   max error for nkpc_res is 1.57E-09\n",
      "   max error for asset_mkt is 5.94E-07\n",
      "   max error for wage_res is 8.99E-08\n",
      "   max error for house_mkt is 8.13E-08\n",
      "On iteration 9\n",
      "   max error for nkpc_res is 4.29E-10\n",
      "   max error for asset_mkt is 1.45E-07\n",
      "   max error for wage_res is 2.52E-08\n",
      "   max error for house_mkt is 1.98E-08\n",
      "On iteration 10\n",
      "   max error for nkpc_res is 1.19E-10\n",
      "   max error for asset_mkt is 3.89E-08\n",
      "   max error for wage_res is 7.26E-09\n",
      "   max error for house_mkt is 5.23E-09\n",
      "On iteration 11\n",
      "   max error for nkpc_res is 3.53E-11\n",
      "   max error for asset_mkt is 1.22E-08\n",
      "   max error for wage_res is 2.23E-09\n",
      "   max error for house_mkt is 1.64E-09\n",
      "On iteration 12\n",
      "   max error for nkpc_res is 1.02E-11\n",
      "   max error for asset_mkt is 3.77E-09\n",
      "   max error for wage_res is 6.65E-10\n",
      "   max error for house_mkt is 5.08E-10\n",
      "4 3\n"
     ]
    },
    {
     "data": {
      "image/png": "[encoded data removed]",
      "text/plain": [
       "<Figure size 1800x1250 with 12 Axes>"
      ]
     },
     "metadata": {},
     "output_type": "display_data"
    }
   ],
   "source": [
    "sigma_gamma = -0.2\n",
    "rho_gamma = 0.9\n",
    "\n",
    "irfs = SimpleNamespace()\n",
    "gamma_shock = {\"gamma\": sigma_gamma * rho_gamma ** (np.arange(T))}\n",
    "gamma_shock_pos = {\"gamma\": -sigma_gamma * rho_gamma ** (np.arange(T))}\n",
    "\n",
    "irfs.gamma_neg = hank.solve_impulse_nonlinear(ss, unknowns, targets, gamma_shock)\n",
    "irfs.gamma_pos = hank.solve_impulse_nonlinear(ss, unknowns, targets, gamma_shock_pos)\n",
    "\n",
    "utils.show_irfs([irfs.gamma_neg, irfs.gamma_pos], ['Y', 'qh', 'C_BHAT', 'pi',\n",
    "                               'r', 'w', 'asset_mkt', 'goods_mkt', 'house_mkt', \n",
    "                               'CHI', 'gamma'], labels=[\"neg\", \"pos\"], T_plot = 50, figsize=(18,12.5))"
   ]
  },
  {
   "cell_type": "code",
   "execution_count": null,
   "metadata": {},
   "outputs": [],
   "source": [
    "print(irfs.gamma)"
   ]
  },
  {
   "cell_type": "code",
   "execution_count": null,
   "metadata": {},
   "outputs": [],
   "source": [
    "utils.show_irfs([irfs.gamma], ['Y', 'qh', 'C_BHAT', \n",
    "                               'pi', 'r', 'w'], labels=[\"High leverage\"], T_plot = 21, figsize=(18,8))"
   ]
  },
  {
   "cell_type": "markdown",
   "metadata": {},
   "source": [
    "# 3. Comparing monetary policy under different leverage levels"
   ]
  },
  {
   "cell_type": "markdown",
   "metadata": {},
   "source": [
    "Computing the steady state of an economy with a leverage of $\\gamma = 0.3$ and $\\gamma = 0.8$."
   ]
  },
  {
   "cell_type": "code",
   "execution_count": null,
   "metadata": {},
   "outputs": [],
   "source": [
    "# load the HA block and add inputs\n",
    "hh = hh_housing_v3.hh_housecons_sep\n",
    "hh1 = hh.add_hetinputs([utils.make_grids, utils.income])\n",
    "\n",
    "blocks_ss = [hh1, firm, monetary, fiscal, wage_res, mkt_clearing, nkpc_ss, qhouse_lag]\n",
    "hank_ss_sep = create_model(blocks_ss, name=\"One-Asset HANK SS\")\n",
    "\n",
    "cali_lowleverage = {'gamma': 0.35, 'theta': 0.1, 'sigma': 1.0, 'alpha': 0.3, 'bmax': 45,\n",
    "                    'hmax': 5.0, 'kmax': 1, 'nB': 50, 'nH': 70, 'nK': 50, 'nZ': 3,\n",
    "                    'rho_z': 0.966, 'sigma_z': 0.92, 'N': 1.0, 'Z': 1.0, 'pi': 0.0, 'mu': 1.2,\n",
    "                    'kappa': 0.1, 'rstar': 0.005, 'phi': 1.5, 'nu': 2.0, 'BBAR': 5.6, 'HBAR': 1.0}\n",
    "\n",
    "cali_highleverage = cali_lowleverage.copy()\n",
    "cali_highleverage['gamma'] = 0.8\n",
    "\n",
    "unknowns_ss = {'beta': 0.986, 'varphi': 0.08345079332201338, 'qh': 8.845303164603399}\n",
    "targets_ss = {'goods_mkt': 0, 'wage_res': 0, 'house_mkt': 0}\n",
    "\n",
    "calib_lowleverage = hank_ss_sep.solve_steady_state(cali_lowleverage, unknowns_ss, targets_ss, solver=\"hybr\")\n",
    "ss_lowleverage =  hank_ss_sep.steady_state(calib_lowleverage)\n",
    "\n",
    "calib_highleverage = hank_ss_sep.solve_steady_state(cali_highleverage, unknowns_ss, targets_ss, solver=\"hybr\")\n",
    "ss_highleverage =  hank_ss_sep.steady_state(calib_highleverage)"
   ]
  },
  {
   "cell_type": "markdown",
   "metadata": {},
   "source": [
    "Computing the transitional dyanmics in each of the two series"
   ]
  },
  {
   "cell_type": "code",
   "execution_count": null,
   "metadata": {},
   "outputs": [],
   "source": [
    "@simple\n",
    "def nkpc(pi, w, Z, Y, r, mu, kappa):\n",
    "    nkpc_res = kappa * (w / Z - 1 / mu) + Y(+1) / Y * (1 + pi(+1)).apply(np.log) / (1 + r(+1))\\\n",
    "               - (1 + pi).apply(np.log)\n",
    "    return nkpc_res\n",
    "\n",
    "blocks = [hh1, firm, monetary, fiscal, wage_res, mkt_clearing, nkpc, qhouse_lag]\n",
    "hank = create_model(blocks, name=\"Housing HANK\")"
   ]
  },
  {
   "cell_type": "code",
   "execution_count": null,
   "metadata": {},
   "outputs": [],
   "source": [
    "# setup\n",
    "T = 300\n",
    "exogenous = ['rstar', 'Z']\n",
    "unknowns = ['pi', 'w', 'N', 'qh']\n",
    "targets = ['nkpc_res', 'goods_mkt', 'wage_res', 'house_mkt']\n",
    "\n",
    "# general equilibrium jacobians\n",
    "# G_lowleverage = hank.solve_jacobian(ss_lowleverage, unknowns, targets, exogenous, T=T)\n",
    "# G_highleverage = hank.solve_jacobian(ss_highleverage, unknowns, targets, exogenous, T=T)"
   ]
  },
  {
   "cell_type": "code",
   "execution_count": null,
   "metadata": {},
   "outputs": [],
   "source": [
    "rho_r, sig_r = 0.75, 0.01\n",
    "rstar_shock_path = {\"rstar\": sig_r * rho_r ** (np.arange(T))}\n",
    "irf_lowleverage = hank.solve_impulse_linear(ss_lowleverage, unknowns, targets, rstar_shock_path)\n",
    "irf_highleverage = hank.solve_impulse_linear(ss_highleverage, unknowns, targets, rstar_shock_path)"
   ]
  },
  {
   "cell_type": "code",
   "execution_count": null,
   "metadata": {},
   "outputs": [],
   "source": [
    "plt.plot(irf_lowleverage['asset_mkt'][:21], label='Low leverage', linestyle='-', linewidth=2.5)\n",
    "plt.plot(irf_highleverage['asset_mkt'][:21], label='High leverage', linestyle='--', linewidth=2.5)\n",
    "plt.legend()\n",
    "plt.show()"
   ]
  },
  {
   "cell_type": "markdown",
   "metadata": {},
   "source": [
    "# Appendix A. Debugging the policy functions"
   ]
  },
  {
   "cell_type": "markdown",
   "metadata": {},
   "source": [
    "## A.1. Setting up the same calibration as for general equilibrium"
   ]
  },
  {
   "cell_type": "code",
   "execution_count": null,
   "metadata": {},
   "outputs": [],
   "source": [
    "import warnings\n",
    "warnings.simplefilter('always', RuntimeWarning)\n",
    "\n",
    "b_bhat_grid, h_bhat_grid, k_grid, e_grid, Pi, b_grid = utils.make_grids(bmax, hmax, kmax, nB, nH, nK, nZ, rho_z, sigma_z, gamma, qh_lag)\n",
    "z_grid = utils.income(e_grid, tax, w, N)\n",
    "\n",
    "# use backward induction to solve for the steady state policy functions\n",
    "Vh_p, Vb_p, h_bhat, b_bhat, c_bhat, _ = utils.policy_ss(Pi, h_bhat_grid, b_bhat_grid, z_grid, e_grid, k_grid, beta, \n",
    "                                         gamma, theta, sigma, qh, qh_lag, r, alpha, tol=1E-8, max_iter=5_000, debug = False)\n",
    "\n",
    "c, h, b, b_endo = utils.bhat_to_b(h_bhat_grid, b_bhat_grid, b_grid, z_grid, c_bhat, h_bhat, gamma, alpha, r, qh, qh_lag)"
   ]
  },
  {
   "cell_type": "markdown",
   "metadata": {},
   "source": [
    "# Appendix B. Old figures"
   ]
  },
  {
   "cell_type": "markdown",
   "metadata": {},
   "source": [
    "## B.1. Plotting the response for different persistence"
   ]
  },
  {
   "cell_type": "code",
   "execution_count": null,
   "metadata": {},
   "outputs": [],
   "source": [
    "# setup\n",
    "T = 300\n",
    "exogenous = ['rstar', 'Z']\n",
    "unknowns = ['pi', 'w', 'N', 'qh']\n",
    "targets = ['nkpc_res', 'goods_mkt', 'wage_res', 'house_mkt']\n",
    "\n",
    "# general equilibrium jacobians\n",
    "G = hank.solve_jacobian(ss, unknowns, targets, exogenous, T=T)\n",
    "\n",
    "print(G)\n",
    "\n",
    "fig = plt.figure(figsize=(18, 4))\n",
    "ax = fig.add_subplot(1,3,1)\n",
    "ax2 = fig.add_subplot(1,3,2)\n",
    "ax3 = fig.add_subplot(1,3,3)\n",
    "\n",
    "rhos = np.array([0.2, 0.4, 0.6, 0.8, 0.9])\n",
    "\n",
    "drstar = -0.0025 * rhos ** (np.arange(T)[:, np.newaxis])\n",
    "dpi = G['pi']['rstar'] @ drstar\n",
    "dqh = G['qh']['rstar'] @ drstar\n",
    "dN = G['C_BHAT']['rstar'] @ drstar\n",
    "ax.plot(10000 * dpi[:21])\n",
    "ax.set_title('Inflation')\n",
    "ax.set_xlabel('quarters')\n",
    "ax.set_ylabel('bp deviation from ss')\n",
    "ax.legend([f'rho = {rho}' for rho in rhos])\n",
    "\n",
    "ax2.plot(10000 * dqh[:21])\n",
    "ax2.set_title('House prices')\n",
    "ax2.set_xlabel('quarters')\n",
    "ax2.set_ylabel('bp deviation from ss')\n",
    "\n",
    "ax3.plot(10000 * dN[:21])\n",
    "ax3.set_title('Consumption')\n",
    "ax3.set_xlabel('quarters')\n",
    "ax3.set_ylabel('bp deviation from ss')\n",
    "\n",
    "plt.show()\n",
    "\n",
    "qh_lag_level = G['qh']['rstar'] @ drstar + ss['qh']\n",
    "B_BHAT_level = G['B_BHAT']['rstar'] @ drstar + ss['B_BHAT']\n",
    "B_level = B_BHAT_level - ss['gamma']*qh_lag_level*ss['H_BHAT']\n",
    "leverage = B_level/(qh_lag_level*ss['H_BHAT'])\n",
    "\n",
    "plt.plot(100*leverage[:21])\n",
    "# plt.plot(B_level)\n",
    "# plt.ylim(0.08, 0.1)\n",
    "plt.show()\n",
    "\n",
    "rho_r, sig_r = 0.8, -0.01\n",
    "rstar_shock_path = {\"rstar\": sig_r * rho_r ** (np.arange(T))}\n",
    "td_lin = hank.solve_impulse_linear(ss, unknowns, targets, rstar_shock_path)\n",
    "\n",
    "print(td_lin.keys())\n",
    "\n",
    "# plt.plot(td_lin['asset_mkt'][:21])\n",
    "utils.show_irfs([td_lin], ['asset_mkt', 'goods_mkt', 'house_mkt'])"
   ]
  }
 ],
 "metadata": {
  "kernelspec": {
   "display_name": "base",
   "language": "python",
   "name": "python3"
  },
  "language_info": {
   "codemirror_mode": {
    "name": "ipython",
    "version": 3
   },
   "file_extension": ".py",
   "mimetype": "text/x-python",
   "name": "python",
   "nbconvert_exporter": "python",
   "pygments_lexer": "ipython3",
   "version": "3.9.19"
  }
 },
 "nbformat": 4,
 "nbformat_minor": 2
}
